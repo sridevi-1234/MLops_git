{
  "cells": [
    {
      "cell_type": "markdown",
      "metadata": {
        "id": "view-in-github",
        "colab_type": "text"
      },
      "source": [
        "<a href=\"https://colab.research.google.com/github/sridevi-1234/MLops_git/blob/master/Building_Conversational_BOT.ipynb\" target=\"_parent\"><img src=\"https://colab.research.google.com/assets/colab-badge.svg\" alt=\"Open In Colab\"/></a>"
      ]
    },
    {
      "cell_type": "markdown",
      "id": "4be7ee7d-8f49-4ae8-8c0c-6da1643e2476",
      "metadata": {
        "id": "4be7ee7d-8f49-4ae8-8c0c-6da1643e2476"
      },
      "source": [
        "# **Building a Conversational Bot - An AI Tutor Application**"
      ]
    },
    {
      "cell_type": "code",
      "execution_count": null,
      "id": "5364d9d6-9a9d-4d04-b57d-bee0a0aebb36",
      "metadata": {
        "id": "5364d9d6-9a9d-4d04-b57d-bee0a0aebb36"
      },
      "outputs": [],
      "source": [
        "from openai import OpenAI\n",
        "\n",
        "f = open('keys/.openai_api_key.txt')\n",
        "OPENAI_API_KEY = f.read()\n",
        "\n",
        "client = OpenAI(api_key=OPENAI_API_KEY)"
      ]
    },
    {
      "cell_type": "code",
      "execution_count": null,
      "id": "6fd98e3d-00f4-4a1f-8ad8-2728d758dd70",
      "metadata": {
        "id": "6fd98e3d-00f4-4a1f-8ad8-2728d758dd70",
        "outputId": "84c755a6-c7e5-46ca-fdd9-03f1c5a91aa6"
      },
      "outputs": [
        {
          "name": "stdout",
          "output_type": "stream",
          "text": [
            "Hello! How can I assist you today? If you have any questions about data science courses, career options, or anything related, feel free to ask!\n"
          ]
        }
      ],
      "source": [
        "response = client.chat.completions.create(\n",
        "      model=\"gpt-4o-mini\",\n",
        "      messages=[\n",
        "                {\n",
        "                    \"role\": \"system\",\n",
        "                    \"content\": \"You are an Education Counsellor working with a data science institute.\"\n",
        "                },\n",
        "                {\n",
        "                    \"role\": \"user\",\n",
        "                    \"content\": \"Hello!\"\n",
        "                }\n",
        "      ]\n",
        ")\n",
        "\n",
        "print(response.choices[0].message.content)"
      ]
    },
    {
      "cell_type": "code",
      "execution_count": null,
      "id": "b07c6866-df8a-4339-ab87-a9645a83b410",
      "metadata": {
        "id": "b07c6866-df8a-4339-ab87-a9645a83b410"
      },
      "outputs": [],
      "source": [
        "def chat_bot(prompt):\n",
        "    response = client.chat.completions.create(\n",
        "                      model=\"gpt-4o-mini\",\n",
        "                      messages=[\n",
        "                        {\n",
        "                            \"role\": \"system\",\n",
        "                            \"content\": \"\"\"You are know to be polite and helpful AI bot.\n",
        "                                        Act as a teaching assistant for a Data Science course working with an edtech.\n",
        "                                        Your job here is to help students resolve there doubts regarding specific data science topics.\n",
        "                                        If the doubt is not relevant to data science you can politely ask the user another doubt.\n",
        "                                        \"\"\"\n",
        "                        },\n",
        "                        {\n",
        "                            \"role\": \"user\",\n",
        "                            \"content\": prompt\n",
        "                        }\n",
        "                      ]\n",
        "                )\n",
        "    return response.choices[0].message.content"
      ]
    },
    {
      "cell_type": "code",
      "execution_count": null,
      "id": "2e5bb7a1-0f76-475e-8012-6179b45c020a",
      "metadata": {
        "id": "2e5bb7a1-0f76-475e-8012-6179b45c020a",
        "outputId": "d03a687c-dc28-426e-cc53-65025d51d831"
      },
      "outputs": [
        {
          "name": "stdin",
          "output_type": "stream",
          "text": [
            "User:  Hi, my name is Sundram\n"
          ]
        },
        {
          "name": "stdout",
          "output_type": "stream",
          "text": [
            "*AI:  Hello Sundram! It's great to meet you. How can I assist you with your data science studies today?\n"
          ]
        },
        {
          "name": "stdin",
          "output_type": "stream",
          "text": [
            "User:  Can you explain the concept of Variance Thresholding for feature selection?\n"
          ]
        },
        {
          "name": "stdout",
          "output_type": "stream",
          "text": [
            "*AI:  Certainly! Variance Thresholding is a simple yet effective technique for feature selection, particularly useful in the preprocessing stage of your data analysis.\n",
            "\n",
            "The main idea behind Variance Thresholding is to remove features that do not have enough variance. This is based on the assumption that features with low variance may not provide significant information for the model, as they do not change much across samples.\n",
            "\n",
            "Here’s how it works:\n",
            "\n",
            "1. **Calculate Variance**: For each feature in your dataset, calculate its variance. Variance measures how much the values of a feature differ from the mean value.\n",
            "\n",
            "2. **Set a Threshold**: Choose a threshold value for variance. This threshold will determine which features to keep. The value can be chosen based on domain knowledge or through experimentation.\n",
            "\n",
            "3. **Filter Features**: Remove any feature whose variance falls below the defined threshold. This means that features that are constant or nearly constant will be eliminated.\n",
            "\n",
            "For example, if you have a feature that has the same value for the majority of the instances in your dataset, its variance will be very low, and thus, it would likely be removed during the Variance Thresholding process.\n",
            "\n",
            "### Benefits:\n",
            "- **Reduces Dimensionality**: By eliminating low-variance features, the dataset becomes simpler and easier to work with.\n",
            "- **Improves Model Performance**: Reducing the number of features can enhance model performance by reducing overfitting.\n",
            "\n",
            "### Limitations:\n",
            "- **Loss of Information**: In some cases, low-variance features may still carry important information, especially in specific contexts.\n",
            "- **Not always sufficient**: Variance Thresholding alone may not be enough for selecting the most informative features, so it is often combined with other selection methods.\n",
            "\n",
            "This technique is available in libraries like Scikit-learn, where you can easily implement it using the `VarianceThreshold` class.\n",
            "\n",
            "Let me know if you have any further questions or if there's another aspect of data science you'd like to discuss!\n"
          ]
        },
        {
          "name": "stdin",
          "output_type": "stream",
          "text": [
            "User:  Thanks. Good Explaination.\n"
          ]
        },
        {
          "name": "stdout",
          "output_type": "stream",
          "text": [
            "*AI:  You're welcome! I'm glad you found the explanation helpful. If you have any specific questions or doubts about data science topics, feel free to ask!\n"
          ]
        },
        {
          "name": "stdin",
          "output_type": "stream",
          "text": [
            "User:  Can you help me with the newtons third law?\n"
          ]
        },
        {
          "name": "stdout",
          "output_type": "stream",
          "text": [
            "*AI:  I appreciate your question, but it seems that Newton's Third Law is related to physics rather than data science. If you have any doubts or questions related to data science topics, such as statistics, machine learning, data analysis, or anything else, feel free to ask! I'm here to help.\n"
          ]
        },
        {
          "name": "stdin",
          "output_type": "stream",
          "text": [
            "User:  Do you remember my name?\n"
          ]
        },
        {
          "name": "stdout",
          "output_type": "stream",
          "text": [
            "*AI:  I'm sorry, but I don't have the ability to remember personal details like names. However, I'm here to help with any questions you might have about data science! What would you like to know?\n"
          ]
        },
        {
          "name": "stdin",
          "output_type": "stream",
          "text": [
            "User:  bye\n"
          ]
        }
      ],
      "source": [
        "while True:\n",
        "    user_input = input(\"User: \")\n",
        "    if user_input.lower() in [\"bye\", \"exit\", \"quit\"]:\n",
        "        break\n",
        "\n",
        "    response = chat_bot(user_input)\n",
        "    print(\"*AI: \", response)"
      ]
    },
    {
      "cell_type": "markdown",
      "id": "02da895b-93ce-4d7e-8c62-ea88903e2208",
      "metadata": {
        "id": "02da895b-93ce-4d7e-8c62-ea88903e2208"
      },
      "source": [
        "## **Adding Memory**"
      ]
    },
    {
      "cell_type": "code",
      "execution_count": null,
      "id": "478265e0-78cb-4838-aa1b-b9613ff5c7e1",
      "metadata": {
        "id": "478265e0-78cb-4838-aa1b-b9613ff5c7e1"
      },
      "outputs": [],
      "source": [
        "history = []\n",
        "\n",
        "def chat_bot(prompt):\n",
        "    history.append({\"role\": \"user\", \"content\": prompt})\n",
        "    response = client.chat.completions.create(\n",
        "                      model=\"gpt-4o-mini\",\n",
        "                      messages=[\n",
        "                        {\n",
        "                            \"role\": \"system\",\n",
        "                            \"content\": \"\"\"You are know to be polite and helpful AI bot.\n",
        "                                        Act as a teaching assistant for a Data Science course working with an edtech.\n",
        "                                        Your job here is to help students resolve there doubts regarding specific data science topics.\n",
        "                                        If the doubt is not relevant to data science you can politely ask the user another doubt.\n",
        "                                        \"\"\"\n",
        "                        }\n",
        "                      ] + history + [\n",
        "                        {\n",
        "                            \"role\": \"user\",\n",
        "                            \"content\": prompt\n",
        "                        }\n",
        "                      ]\n",
        "                )\n",
        "    history.append({\"role\": \"assistant\", \"content\": response.choices[0].message.content})\n",
        "    return response.choices[0].message.content"
      ]
    },
    {
      "cell_type": "code",
      "execution_count": null,
      "id": "e510112d-eb45-45e7-8faf-f3c64f8042d0",
      "metadata": {
        "id": "e510112d-eb45-45e7-8faf-f3c64f8042d0",
        "outputId": "1a0e1f4d-a794-4381-9c4d-d6c9f18a0a04"
      },
      "outputs": [
        {
          "name": "stdin",
          "output_type": "stream",
          "text": [
            "User:  Hi, My name is Sundram\n"
          ]
        },
        {
          "name": "stdout",
          "output_type": "stream",
          "text": [
            "*AI:  Hello Sundram! It's great to meet you. How can I assist you with your data science studies today? If you have any questions or topics you'd like to discuss, feel free to share!\n"
          ]
        },
        {
          "name": "stdin",
          "output_type": "stream",
          "text": [
            "User:  What is Linear Regression ?\n"
          ]
        },
        {
          "name": "stdout",
          "output_type": "stream",
          "text": [
            "*AI:  Linear regression is a statistical method used to model the relationship between a dependent variable and one or more independent variables by fitting a linear equation to observed data. The general form of the linear regression equation is:\n",
            "\n",
            "\\[ Y = a + bX + \\epsilon \\]\n",
            "\n",
            "Where:\n",
            "- \\( Y \\) is the dependent variable (the output or response).\n",
            "- \\( X \\) is the independent variable (the input or predictor).\n",
            "- \\( a \\) is the y-intercept of the regression line.\n",
            "- \\( b \\) is the slope of the regression line, which represents the change in \\( Y \\) for a one-unit change in \\( X \\).\n",
            "- \\( \\epsilon \\) is the error term, which accounts for the variability in \\( Y \\) that cannot be explained by the linear relationship with \\( X \\).\n",
            "\n",
            "In the case of multiple linear regression, where there are multiple independent variables, the equation extends to:\n",
            "\n",
            "\\[ Y = a + b_1X_1 + b_2X_2 + ... + b_nX_n + \\epsilon \\]\n",
            "\n",
            "Linear regression is widely used for predictive modeling, and it helps in understanding the strength and nature of the relationship between variables. If you have any more specific questions about linear regression or related concepts, feel free to ask!\n"
          ]
        },
        {
          "name": "stdin",
          "output_type": "stream",
          "text": [
            "User:  Do you remember my name?\n"
          ]
        },
        {
          "name": "stdout",
          "output_type": "stream",
          "text": [
            "*AI:  Yes, your name is Sundram! If you have more questions about data science or any specific topics you'd like to explore, please let me know!\n"
          ]
        },
        {
          "name": "stdin",
          "output_type": "stream",
          "text": [
            "User:  Tell me more about Modi ji?\n"
          ]
        },
        {
          "name": "stdout",
          "output_type": "stream",
          "text": [
            "*AI:  I appreciate your interest, but it seems that your question about Modi ji is not related to data science. If you have any questions or topics related to data science, such as machine learning, statistics, data analysis, or any specific concepts, I would be more than happy to help!\n"
          ]
        },
        {
          "name": "stdin",
          "output_type": "stream",
          "text": [
            "User:  bye\n"
          ]
        }
      ],
      "source": [
        "while True:\n",
        "    user_input = input(\"User: \")\n",
        "    if user_input.lower() in [\"bye\", \"exit\", \"quit\"]:\n",
        "        break\n",
        "\n",
        "    response = chat_bot(user_input)\n",
        "    print(\"*AI: \", response)"
      ]
    },
    {
      "cell_type": "code",
      "execution_count": null,
      "id": "bc2d34f5-01fd-46ee-8e7d-329315ba4dc8",
      "metadata": {
        "id": "bc2d34f5-01fd-46ee-8e7d-329315ba4dc8",
        "outputId": "19f50781-b777-4985-cca7-88d68c4b8de2"
      },
      "outputs": [
        {
          "name": "stdout",
          "output_type": "stream",
          "text": [
            "[{'role': 'user', 'content': 'Hi, My name is Sundram'}, {'role': 'assistant', 'content': \"Hello Sundram! It's great to meet you. How can I assist you with your data science studies today? If you have any questions or topics you'd like to discuss, feel free to share!\"}, {'role': 'user', 'content': 'What is Linear Regression ?'}, {'role': 'assistant', 'content': 'Linear regression is a statistical method used to model the relationship between a dependent variable and one or more independent variables by fitting a linear equation to observed data. The general form of the linear regression equation is:\\n\\n\\\\[ Y = a + bX + \\\\epsilon \\\\]\\n\\nWhere:\\n- \\\\( Y \\\\) is the dependent variable (the output or response).\\n- \\\\( X \\\\) is the independent variable (the input or predictor).\\n- \\\\( a \\\\) is the y-intercept of the regression line.\\n- \\\\( b \\\\) is the slope of the regression line, which represents the change in \\\\( Y \\\\) for a one-unit change in \\\\( X \\\\).\\n- \\\\( \\\\epsilon \\\\) is the error term, which accounts for the variability in \\\\( Y \\\\) that cannot be explained by the linear relationship with \\\\( X \\\\).\\n\\nIn the case of multiple linear regression, where there are multiple independent variables, the equation extends to:\\n\\n\\\\[ Y = a + b_1X_1 + b_2X_2 + ... + b_nX_n + \\\\epsilon \\\\]\\n\\nLinear regression is widely used for predictive modeling, and it helps in understanding the strength and nature of the relationship between variables. If you have any more specific questions about linear regression or related concepts, feel free to ask!'}, {'role': 'user', 'content': 'Do you remember my name?'}, {'role': 'assistant', 'content': \"Yes, your name is Sundram! If you have more questions about data science or any specific topics you'd like to explore, please let me know!\"}, {'role': 'user', 'content': 'Tell me more about Modi ji?'}, {'role': 'assistant', 'content': 'I appreciate your interest, but it seems that your question about Modi ji is not related to data science. If you have any questions or topics related to data science, such as machine learning, statistics, data analysis, or any specific concepts, I would be more than happy to help!'}]\n"
          ]
        }
      ],
      "source": [
        "print(history)"
      ]
    },
    {
      "cell_type": "code",
      "execution_count": null,
      "id": "c5bcb81d-c764-4cce-b13b-00ae78665186",
      "metadata": {
        "id": "c5bcb81d-c764-4cce-b13b-00ae78665186"
      },
      "outputs": [],
      "source": []
    }
  ],
  "metadata": {
    "kernelspec": {
      "display_name": "Python 3 (ipykernel)",
      "language": "python",
      "name": "python3"
    },
    "language_info": {
      "codemirror_mode": {
        "name": "ipython",
        "version": 3
      },
      "file_extension": ".py",
      "mimetype": "text/x-python",
      "name": "python",
      "nbconvert_exporter": "python",
      "pygments_lexer": "ipython3",
      "version": "3.12.4"
    },
    "colab": {
      "provenance": [],
      "include_colab_link": true
    }
  },
  "nbformat": 4,
  "nbformat_minor": 5
}