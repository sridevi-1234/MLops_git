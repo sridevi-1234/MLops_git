{
  "cells": [
    {
      "cell_type": "markdown",
      "metadata": {
        "id": "view-in-github",
        "colab_type": "text"
      },
      "source": [
        "<a href=\"https://colab.research.google.com/github/sridevi-1234/MLops_git/blob/master/Basic_RAG.ipynb\" target=\"_parent\"><img src=\"https://colab.research.google.com/assets/colab-badge.svg\" alt=\"Open In Colab\"/></a>"
      ]
    },
    {
      "cell_type": "code",
      "execution_count": null,
      "id": "42542759-400b-4261-8b8c-6a21815cab4f",
      "metadata": {
        "id": "42542759-400b-4261-8b8c-6a21815cab4f"
      },
      "outputs": [],
      "source": [
        "from langchain_openai import ChatOpenAI\n",
        "f = open('keys/.openai_api_key.txt')\n",
        "OPENAI_API_KEY = f.read()\n",
        "chat_model = ChatOpenAI(openai_api_key = OPENAI_API_KEY, model =\"gpt-4o-mini\")"
      ]
    },
    {
      "cell_type": "code",
      "execution_count": null,
      "id": "765334c6-874d-4e9c-b64b-54cacb3a53bd",
      "metadata": {
        "id": "765334c6-874d-4e9c-b64b-54cacb3a53bd",
        "outputId": "a074fa55-c6cf-4f91-b759-528a4a7973ef"
      },
      "outputs": [
        {
          "data": {
            "text/plain": [
              "ChatPromptTemplate(input_variables=['dish_name', 'output_format_instructions'], input_types={}, partial_variables={}, messages=[SystemMessagePromptTemplate(prompt=PromptTemplate(input_variables=['output_format_instructions'], input_types={}, partial_variables={}, template='You are a helpful AI chef Assistant. Given a dish name by user, you can provide the ingredients to prepare\\n    the dish. Output Format Instructions: {output_format_instructions}'), additional_kwargs={}), HumanMessagePromptTemplate(prompt=PromptTemplate(input_variables=['dish_name'], input_types={}, partial_variables={}, template='Give me the ingredients for cooking {dish_name}.'), additional_kwargs={})])"
            ]
          },
          "execution_count": 5,
          "metadata": {},
          "output_type": "execute_result"
        }
      ],
      "source": [
        "from langchain_core.prompts import ChatPromptTemplate\n",
        "prompt_template = ChatPromptTemplate.from_messages([\n",
        "    (\"system\", \"\"\"You are a helpful AI chef Assistant. Given a dish name by user, you can provide the ingredients to prepare\n",
        "    the dish. Output Format Instructions: {output_format_instructions}\"\"\"),\n",
        "    (\"human\", \"Give me the ingredients for cooking {dish_name}.\"),])\n",
        "prompt_template\n"
      ]
    },
    {
      "cell_type": "code",
      "execution_count": null,
      "id": "a35840f8-c9ef-44d2-a7ac-8646d01d8a62",
      "metadata": {
        "id": "a35840f8-c9ef-44d2-a7ac-8646d01d8a62"
      },
      "outputs": [],
      "source": [
        "from langchain_core.output_parsers import CommaSeparatedListOutputParser\n",
        "\n",
        "csv_output_parser = CommaSeparatedListOutputParser()"
      ]
    },
    {
      "cell_type": "code",
      "execution_count": null,
      "id": "702d09f2-68b5-4046-8493-778a9caca524",
      "metadata": {
        "id": "702d09f2-68b5-4046-8493-778a9caca524"
      },
      "outputs": [],
      "source": [
        "chain = prompt_template | chat_model | csv_output_parser"
      ]
    },
    {
      "cell_type": "code",
      "execution_count": null,
      "id": "b6870253-e883-4319-932f-03e63cdfc2cd",
      "metadata": {
        "id": "b6870253-e883-4319-932f-03e63cdfc2cd",
        "outputId": "5c0c6266-6d9f-47de-d0db-02ccc7e6a983"
      },
      "outputs": [
        {
          "name": "stdout",
          "output_type": "stream",
          "text": [
            "['paneer', 'basmati rice', 'onions', 'tomatoes', 'ginger-garlic paste', 'green chilies', 'yogurt', 'biryani masala', 'turmeric powder', 'cumin seeds', 'bay leaves', 'cloves', 'cardamom', 'cinnamon stick', 'coriander leaves', 'mint leaves', 'oil or ghee', 'salt', 'water']\n"
          ]
        }
      ],
      "source": [
        "user_input = {\"dish_name\": \"paneer biryani\", \"output_format_instructions\": csv_output_parser.get_format_instructions()}\n",
        "\n",
        "response = chain.invoke(user_input)\n",
        "\n",
        "print(response)"
      ]
    },
    {
      "cell_type": "code",
      "execution_count": null,
      "id": "f679ab74-0fe1-4f02-9d03-ec48df436f9b",
      "metadata": {
        "id": "f679ab74-0fe1-4f02-9d03-ec48df436f9b"
      },
      "outputs": [],
      "source": []
    },
    {
      "cell_type": "code",
      "execution_count": null,
      "id": "b29628ba-24d9-4408-ba38-53c2a8e1ae5e",
      "metadata": {
        "id": "b29628ba-24d9-4408-ba38-53c2a8e1ae5e",
        "outputId": "7b131bb6-a820-4a20-b36a-9744e9859cbe"
      },
      "outputs": [
        {
          "data": {
            "text/plain": [
              "ChatPromptTemplate(input_variables=['context', 'question'], input_types={}, partial_variables={}, messages=[SystemMessagePromptTemplate(prompt=PromptTemplate(input_variables=['context'], input_types={}, partial_variables={}, template='You are a helpful AI Assistannt. Given a user question, you can provide the information to the \\n    user about the events as per the below mentioned context. Context: {context}'), additional_kwargs={}), HumanMessagePromptTemplate(prompt=PromptTemplate(input_variables=['question'], input_types={}, partial_variables={}, template='{question}'), additional_kwargs={})])"
            ]
          },
          "execution_count": 17,
          "metadata": {},
          "output_type": "execute_result"
        }
      ],
      "source": [
        "from langchain_core.prompts import ChatPromptTemplate\n",
        "prompt_template = ChatPromptTemplate.from_messages([\n",
        "    (\"system\", \"\"\"You are a helpful AI Assistannt. Given a user question, you can provide the information to the\n",
        "    user about the events as per the below mentioned context. Context: {context}\"\"\"),\n",
        "    (\"human\", \"{question}\"),])\n",
        "prompt_template"
      ]
    },
    {
      "cell_type": "code",
      "execution_count": null,
      "id": "5c6b57ed-6252-4a80-ac66-051193bc3b87",
      "metadata": {
        "id": "5c6b57ed-6252-4a80-ac66-051193bc3b87"
      },
      "outputs": [],
      "source": [
        "# output parser\n",
        "from langchain_core.output_parsers import StrOutputParser\n",
        "parser = StrOutputParser()"
      ]
    },
    {
      "cell_type": "code",
      "execution_count": null,
      "id": "c3ee1071-5d77-4ed0-925b-7d10459835f2",
      "metadata": {
        "id": "c3ee1071-5d77-4ed0-925b-7d10459835f2"
      },
      "outputs": [],
      "source": [
        "chain = prompt_template | chat_model | parser"
      ]
    },
    {
      "cell_type": "code",
      "execution_count": null,
      "id": "b38e7fa8-4ede-47fa-af93-784d41fb999e",
      "metadata": {
        "id": "b38e7fa8-4ede-47fa-af93-784d41fb999e",
        "outputId": "facfa2ce-a3f6-42ca-c1ef-82e9fb49b51d"
      },
      "outputs": [
        {
          "data": {
            "text/plain": [
              "\"Certainly! The upcoming assembly elections in Maharashtra and Jharkhand are set to test the political strength of the Bharatiya Janata Party (BJP) and Congress, alongside their regional allies, following recent elections in Haryana and Jammu and Kashmir. \\n\\nIn Maharashtra, the political landscape has changed significantly since the 2019 elections, with the Shiv Sena and Nationalist Congress Party (NCP) splitting into factions that now ally with the BJP and Congress, respectively. The ruling Mahayuti coalition, which includes the BJP, secured 17 out of 48 seats in the 2024 general election, while the opposing Maha Vikas Aghadi coalition won 29 seats. To strengthen their position, the government has introduced initiatives such as a toll waiver for light motor vehicles. The Congress, after a poor showing in Haryana, is adopting a more subdued approach in its campaign.\\n\\nIn Jharkhand, where the ruling alliance is led by the JMM and includes Congress, both governments are focusing on appealing to women voters through cash dole schemes. The BJP's campaign in Jharkhand revolves around corruption allegations against Chief Minister Hemant Soren and demographic concerns, while Soren accuses the BJP of misusing central agencies against him. The BJP aims to consolidate Hindu votes among the non-tribal population, while the Congress and its allies risk over-relying on Maratha and tribal votes in their respective states.\""
            ]
          },
          "execution_count": 23,
          "metadata": {},
          "output_type": "execute_result"
        }
      ],
      "source": [
        "news_article = \"\"\" Assembly elections in Maharashtra and Jharkhand in November will, yet again, test the mettle of the Bharatiya Janata Party (BJP) and the Congress, and the respective regional parties, just weeks after the elections in Haryana and Jammu and Kashmir. By-elections in three Lok Sabha constituencies and 48 Assembly segments across States have also been announced. The political landscape in Maharashtra has been reshaped thoroughly since the 2019 election. The Shiv Sena and the Nationalist Congress Party (NCP) have split, with one faction each in alliance with the BJP and the Congress. The ruling Mahayuti, which the BJP is a part of, ended up with 17 of 48 seats in the 2024 general election, while the Maha Vikas Aghadi, of the Congress, the Uddhav Thackeray faction of the Sena and the Sharad Pawar faction of the NCP, won 29. Since then, the ruling alliance has taken several measures to gain more ground. Following the latest decision by the outgoing Eknath Shinde-led government hours before the election schedule was announced, a complete toll waiver for light motor vehicles was announced. Chastened by the Haryana election results, the Congress has toned down its hype in Maharashtra. It has appointed senior leaders to oversee the campaign in various regions of the State. In Maharashtra and Jharkhand, the BJP has had its strategy in place well in time, overseen by veterans who command authority.\n",
        "\n",
        "The JMM-led ruling alliance in Jharkhand, which the Congress is a part of, and the Mahayuti are betting on women voters to ensure another term. Both governments have introduced cash dole schemes for women. In Jharkhand, the BJP campaign is built on corruption allegations against State Chief Minister Hemant Soren as well as demographic shifts which the party attributes to the alleged entry of people from Bangladesh. Mr. Soren accuses the BJP of misusing central investigating agencies to implicate him. He is dependent on tribal consolidation, but that alone is not sufficient. Nearly three-fourths of the State’s population are non-tribal, and the BJP’s focus is on consolidating the Hindus among them. The tribal population is shrinking, but linking this to Bangladesh while overlooking the issue of inter-State migration is a classic BJP playbook tactic. The consolidation of the Other Backward Classes, a strategy that worked in its favour in Haryana, is what the BJP is aiming for in Jharkhand and Maharashtra. The Congress and its regional allies are at risk of being overdependent on Marathas in Maharashtra and tribespeople in Jharkhand.\n",
        "\n",
        "\"\"\"\n",
        "user_query = \"Can you summaries the news for me?\"\n",
        "\n",
        "chain.invoke({\"question\": user_query, \"context\": news_article})"
      ]
    },
    {
      "cell_type": "code",
      "execution_count": null,
      "id": "b6d1a70e-097d-4b03-b671-53e5fc366ccb",
      "metadata": {
        "id": "b6d1a70e-097d-4b03-b671-53e5fc366ccb",
        "outputId": "5286df23-d4d7-4998-fde5-242261214f21"
      },
      "outputs": [
        {
          "name": "stdout",
          "output_type": "stream",
          "text": [
            "In the upcoming elections in Maharashtra and Jharkhand, several political parties are involved. Key players include:\n",
            "\n",
            "1. **Bharatiya Janata Party (BJP)**\n",
            "2. **Congress**\n",
            "3. **Shiv Sena** (with factions aligned with both BJP and Congress)\n",
            "4. **Nationalist Congress Party (NCP)** (with factions aligned with both BJP and Congress)\n",
            "5. **Jharkhand Mukti Morcha (JMM)** and its ruling alliance partners in Jharkhand.\n",
            "\n",
            "Overall, at least five major political entities are involved in these elections, with multiple factions within the Shiv Sena and NCP.\n"
          ]
        }
      ],
      "source": [
        "user_query = \"How many political party envoled in the upcoming election?\"\n",
        "\n",
        "response = chain.invoke({\"question\": user_query, \"context\": news_article})\n",
        "print(response)"
      ]
    },
    {
      "cell_type": "code",
      "execution_count": null,
      "id": "e637d6b3-4fbd-48a7-93a5-493b2f0b37b7",
      "metadata": {
        "id": "e637d6b3-4fbd-48a7-93a5-493b2f0b37b7"
      },
      "outputs": [],
      "source": []
    },
    {
      "cell_type": "code",
      "execution_count": null,
      "id": "3727a008-552c-4310-827a-293e46ebb483",
      "metadata": {
        "id": "3727a008-552c-4310-827a-293e46ebb483"
      },
      "outputs": [],
      "source": []
    },
    {
      "cell_type": "code",
      "execution_count": null,
      "id": "33cd7495-4ebe-4e5a-ad9d-baa3e7a386d7",
      "metadata": {
        "id": "33cd7495-4ebe-4e5a-ad9d-baa3e7a386d7"
      },
      "outputs": [],
      "source": []
    }
  ],
  "metadata": {
    "kernelspec": {
      "display_name": "Python 3 (ipykernel)",
      "language": "python",
      "name": "python3"
    },
    "language_info": {
      "codemirror_mode": {
        "name": "ipython",
        "version": 3
      },
      "file_extension": ".py",
      "mimetype": "text/x-python",
      "name": "python",
      "nbconvert_exporter": "python",
      "pygments_lexer": "ipython3",
      "version": "3.12.4"
    },
    "colab": {
      "provenance": [],
      "include_colab_link": true
    }
  },
  "nbformat": 4,
  "nbformat_minor": 5
}