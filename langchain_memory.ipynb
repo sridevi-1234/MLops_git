{
  "cells": [
    {
      "cell_type": "markdown",
      "metadata": {
        "id": "view-in-github",
        "colab_type": "text"
      },
      "source": [
        "<a href=\"https://colab.research.google.com/github/sridevi-1234/MLops_git/blob/master/langchain_memory.ipynb\" target=\"_parent\"><img src=\"https://colab.research.google.com/assets/colab-badge.svg\" alt=\"Open In Colab\"/></a>"
      ]
    },
    {
      "cell_type": "markdown",
      "id": "3f5c86a2-76b6-4cf7-8f94-051684e7784d",
      "metadata": {
        "id": "3f5c86a2-76b6-4cf7-8f94-051684e7784d"
      },
      "source": [
        "# **LangChain Memory**\n",
        "\n",
        "Most LLM applications have a conversational interface. An essential component of a conversation is being able to refer to information introduced earlier in the conversation. At bare minimum, a conversational system should be able to access some window of past messages directly. A more complex system will need to have a world model that it is constantly updating, which allows it to do things like maintain information about entities and their relationships.\n",
        "\n",
        "We call this ability to store information about past interactions \"memory\". LangChain provides a lot of utilities for adding memory to a system. These utilities can be used by themselves or incorporated seamlessly into a chain.\n",
        "\n",
        "## **Building memory into a system**\n",
        "The two core design decisions in any memory system are:\n",
        "- How state is stored\n",
        "- How state is queried\n",
        "\n",
        "## **What's covered?**\n",
        "- ConversationBufferMemory\n",
        "- End-to-end Example: Conversational AI Bot\n",
        "- Saving and Loading a Chat History\n",
        "- ConversationBufferWindowMemory"
      ]
    },
    {
      "cell_type": "markdown",
      "id": "b1113868-bbd5-4d29-a118-7591b61fa8ff",
      "metadata": {
        "id": "b1113868-bbd5-4d29-a118-7591b61fa8ff"
      },
      "source": [
        "## **ConversationBufferMemory**\n",
        "\n",
        "Let's take a look at how to use ConversationBufferMemory in chains. ConversationBufferMemory is an extremely simple form of memory that just keeps a list of chat messages in a buffer and passes those into the prompt template.\n",
        "\n",
        "This memory type can be connected to a conversation. It allows for storing messages and then extracts the messages in a variable."
      ]
    },
    {
      "cell_type": "markdown",
      "id": "1210d13f-efab-42cd-bfa9-3d04865048bb",
      "metadata": {
        "id": "1210d13f-efab-42cd-bfa9-3d04865048bb"
      },
      "source": [
        "## **End-to-end Example: Conversational AI Bot**\n",
        "\n",
        "<img src=\"images/memory.png\">\n",
        "\n",
        "### **Steps:**\n",
        "1. Import Chat Model and Configure the API Key\n",
        "2. Create Chat Template\n",
        "3. Initialize the Memory\n",
        "4. Create a Output Parser\n",
        "5. Build a Chain\n",
        "6. Invoke the chain with human_input and chat_history\n",
        "7. Saving to memory\n",
        "8. Run Step 6 and 7 in a loop"
      ]
    },
    {
      "cell_type": "markdown",
      "id": "4e46bad6-af98-42aa-8a9d-348875e0872e",
      "metadata": {
        "id": "4e46bad6-af98-42aa-8a9d-348875e0872e"
      },
      "source": [
        "# Step 1 : Import Chat Model and Configure the API Key"
      ]
    },
    {
      "cell_type": "code",
      "execution_count": null,
      "id": "e30b822d-00e6-4787-ab64-bfb33c628975",
      "metadata": {
        "id": "e30b822d-00e6-4787-ab64-bfb33c628975"
      },
      "outputs": [],
      "source": [
        "\n",
        "from langchain_openai import ChatOpenAI\n",
        "f = open('keys/.openai_api_key.txt')\n",
        "OPENAI_API_KEY = f.read()\n",
        "chat_model = ChatOpenAI(openai_api_key=OPENAI_API_KEY)"
      ]
    },
    {
      "cell_type": "code",
      "execution_count": null,
      "id": "80eff3fa-07c3-4b81-9ebd-e91153ec344b",
      "metadata": {
        "id": "80eff3fa-07c3-4b81-9ebd-e91153ec344b"
      },
      "outputs": [],
      "source": [
        "# ********************************* Example start ********************************"
      ]
    },
    {
      "cell_type": "code",
      "execution_count": null,
      "id": "c39eaa81-1811-48ad-be6a-ba2e5228b069",
      "metadata": {
        "id": "c39eaa81-1811-48ad-be6a-ba2e5228b069",
        "outputId": "93b2fe21-196e-43bc-ef0c-3c3f15bb708d"
      },
      "outputs": [
        {
          "name": "stderr",
          "output_type": "stream",
          "text": [
            "C:\\Users\\KUMAR SUNDRAM\\AppData\\Local\\Temp\\ipykernel_26008\\1868966598.py:2: LangChainDeprecationWarning: Please see the migration guide at: https://python.langchain.com/docs/versions/migrating_memory/\n",
            "  memory = ConversationBufferMemory()\n"
          ]
        },
        {
          "data": {
            "text/plain": [
              "{'history': ''}"
            ]
          },
          "execution_count": 8,
          "metadata": {},
          "output_type": "execute_result"
        }
      ],
      "source": [
        "from langchain.memory import ConversationBufferMemory\n",
        "memory = ConversationBufferMemory()\n",
        "memory.load_memory_variables({})"
      ]
    },
    {
      "cell_type": "code",
      "execution_count": null,
      "id": "5ff32924-994a-4cd5-a885-79fe0cf94b2c",
      "metadata": {
        "id": "5ff32924-994a-4cd5-a885-79fe0cf94b2c",
        "outputId": "4c2c1ec5-19ce-48b4-89a6-977c03b00a87"
      },
      "outputs": [
        {
          "data": {
            "text/plain": [
              "''"
            ]
          },
          "execution_count": 10,
          "metadata": {},
          "output_type": "execute_result"
        }
      ],
      "source": [
        "memory.buffer"
      ]
    },
    {
      "cell_type": "code",
      "execution_count": null,
      "id": "4a9aff28-b67e-42a7-bffa-acaf9f023b83",
      "metadata": {
        "id": "4a9aff28-b67e-42a7-bffa-acaf9f023b83",
        "outputId": "267fc47f-4bbf-435c-b6fb-af8bd07d4e20"
      },
      "outputs": [
        {
          "data": {
            "text/plain": [
              "{'chat_history': \"Human: Hi!\\nAI: Hi, what's up? How can I help you?\"}"
            ]
          },
          "execution_count": 12,
          "metadata": {},
          "output_type": "execute_result"
        }
      ],
      "source": [
        "memory = ConversationBufferMemory(memory_key = \"chat_history\")\n",
        "memory.chat_memory.add_user_message(\"Hi!\")\n",
        "memory.chat_memory.add_ai_message(\"Hi, what's up? How can I help you?\")\n",
        "memory.load_memory_variables({})"
      ]
    },
    {
      "cell_type": "code",
      "execution_count": null,
      "id": "adc2d8f2-fade-4b1c-a360-64fbae4a9f50",
      "metadata": {
        "id": "adc2d8f2-fade-4b1c-a360-64fbae4a9f50",
        "outputId": "a26edd24-2369-4b66-e672-45b2a7c2bb2c"
      },
      "outputs": [
        {
          "data": {
            "text/plain": [
              "\"Human: Hi!\\nAI: Hi, what's up? How can I help you?\""
            ]
          },
          "execution_count": 14,
          "metadata": {},
          "output_type": "execute_result"
        }
      ],
      "source": [
        "memory.buffer"
      ]
    },
    {
      "cell_type": "code",
      "execution_count": null,
      "id": "95f39f80-62d1-47b9-bdae-2aa218e4eaf6",
      "metadata": {
        "id": "95f39f80-62d1-47b9-bdae-2aa218e4eaf6",
        "outputId": "620e33ff-5517-4a1a-a4f4-1427ee3c3149"
      },
      "outputs": [
        {
          "data": {
            "text/plain": [
              "{'chat_history': [HumanMessage(content='Hi!', additional_kwargs={}, response_metadata={}),\n",
              "  AIMessage(content=\"Hi, what's up? How can I help you?\", additional_kwargs={}, response_metadata={})]}"
            ]
          },
          "execution_count": 16,
          "metadata": {},
          "output_type": "execute_result"
        }
      ],
      "source": [
        "memory = ConversationBufferMemory(memory_key = \"chat_history\", return_messages=True)\n",
        "memory.chat_memory.add_user_message(\"Hi!\")\n",
        "memory.chat_memory.add_ai_message(\"Hi, what's up? How can I help you?\")\n",
        "memory.load_memory_variables({})"
      ]
    },
    {
      "cell_type": "code",
      "execution_count": null,
      "id": "713e3698-f73d-49fa-baa2-8aa139b3ea8d",
      "metadata": {
        "id": "713e3698-f73d-49fa-baa2-8aa139b3ea8d"
      },
      "outputs": [],
      "source": [
        "# ********************************* Example End ********************************"
      ]
    },
    {
      "cell_type": "code",
      "execution_count": null,
      "id": "822f8b82-8336-45e6-8d7c-6a3010b8b50d",
      "metadata": {
        "id": "822f8b82-8336-45e6-8d7c-6a3010b8b50d"
      },
      "outputs": [],
      "source": []
    },
    {
      "cell_type": "markdown",
      "id": "b59b96d8-cea1-44b1-b5d9-d07683b69c70",
      "metadata": {
        "id": "b59b96d8-cea1-44b1-b5d9-d07683b69c70"
      },
      "source": [
        "# Step 2 - Create Chat Template"
      ]
    },
    {
      "cell_type": "code",
      "execution_count": null,
      "id": "8952916e-f681-4842-a661-845f81da8c47",
      "metadata": {
        "id": "8952916e-f681-4842-a661-845f81da8c47"
      },
      "outputs": [],
      "source": [
        "\n",
        "from langchain_core.prompts import ChatPromptTemplate, MessagesPlaceholder, SystemMessagePromptTemplate, HumanMessagePromptTemplate\n",
        "from langchain_core.messages import SystemMessage"
      ]
    },
    {
      "cell_type": "code",
      "execution_count": null,
      "id": "ae457c3f-b315-4e91-9f52-95a0f64354ba",
      "metadata": {
        "id": "ae457c3f-b315-4e91-9f52-95a0f64354ba"
      },
      "outputs": [],
      "source": [
        "chat_prompt_template = ChatPromptTemplate.from_messages([\n",
        "    SystemMessage(content=\"You are a chatbot having a conversation with a human.\"),\n",
        "    # creating a chat_history placeholder\n",
        "    MessagesPlaceholder(variable_name=\"chat_history\"),\n",
        "    # Human Prompt\n",
        "    HumanMessagePromptTemplate.from_template(\"{human_input}\"),])\n",
        ""
      ]
    },
    {
      "cell_type": "markdown",
      "id": "1aeb0448-f569-4e31-a865-c40150a8dc40",
      "metadata": {
        "id": "1aeb0448-f569-4e31-a865-c40150a8dc40"
      },
      "source": [
        "# Step 3 - Initialize the Memory"
      ]
    },
    {
      "cell_type": "code",
      "execution_count": null,
      "id": "c65a519c-33e1-4993-91ea-1b1d59fc08ff",
      "metadata": {
        "id": "c65a519c-33e1-4993-91ea-1b1d59fc08ff"
      },
      "outputs": [],
      "source": [
        "from langchain.memory import ConversationBufferMemory\n",
        "memory = ConversationBufferMemory(memory_key = \"chat_history\", return_messages=True)"
      ]
    },
    {
      "cell_type": "markdown",
      "id": "3cd78bca-11ae-4f6a-aca1-b3540531757b",
      "metadata": {
        "id": "3cd78bca-11ae-4f6a-aca1-b3540531757b"
      },
      "source": [
        "# Step 4 - Create a Output Parser"
      ]
    },
    {
      "cell_type": "code",
      "execution_count": null,
      "id": "894924ab-8dd8-4443-9225-44d478931cf7",
      "metadata": {
        "id": "894924ab-8dd8-4443-9225-44d478931cf7"
      },
      "outputs": [],
      "source": [
        "from langchain_core.output_parsers import StrOutputParser\n",
        "output_parser = StrOutputParser()"
      ]
    },
    {
      "cell_type": "markdown",
      "id": "96d4c92b-30a4-4968-9f26-1112eff3075f",
      "metadata": {
        "id": "96d4c92b-30a4-4968-9f26-1112eff3075f"
      },
      "source": [
        "# Step 5 - Build a Chain (Another way)"
      ]
    },
    {
      "cell_type": "code",
      "execution_count": null,
      "id": "60de7445-7725-444f-b00e-563ccb6223a7",
      "metadata": {
        "id": "60de7445-7725-444f-b00e-563ccb6223a7"
      },
      "outputs": [],
      "source": [
        "from langchain_core.runnables import RunnablePassthrough, RunnableLambda\n",
        "\n",
        "# Define a function to load the message from memory\n",
        "def get_messages_from_memory(human_input):\n",
        "    return memory.load_memory_variables(human_input)['chat_history']\n",
        "\n",
        "# Define a chain\n",
        "chain = RunnablePassthrough.assign(chat_history = RunnableLambda(get_messages_from_memory)) |  chat_prompt_template | chat_model | output_parser"
      ]
    },
    {
      "cell_type": "markdown",
      "id": "532d1d52-d66f-49d7-95a5-b148080f3133",
      "metadata": {
        "id": "532d1d52-d66f-49d7-95a5-b148080f3133"
      },
      "source": [
        "# Step 6 - Invoke the chain with human_input and chat_history"
      ]
    },
    {
      "cell_type": "code",
      "execution_count": null,
      "id": "8459cc0a-7ab1-44a0-9261-c82d684a23d9",
      "metadata": {
        "id": "8459cc0a-7ab1-44a0-9261-c82d684a23d9",
        "outputId": "5c76d419-c556-4cdc-8c58-f8d896b4bcb3"
      },
      "outputs": [
        {
          "data": {
            "text/plain": [
              "\"Hello! I'm just a computer program, so I don't have feelings, but I'm here to help you. How can I assist you today?\""
            ]
          },
          "execution_count": 45,
          "metadata": {},
          "output_type": "execute_result"
        }
      ],
      "source": [
        "query= {\"human_input\":\"Hi, How are you?\"}\n",
        "response = chain.invoke(query)\n",
        "response"
      ]
    },
    {
      "cell_type": "markdown",
      "id": "2bd10c5a-7489-4081-ae8e-47d6b89054e0",
      "metadata": {
        "id": "2bd10c5a-7489-4081-ae8e-47d6b89054e0"
      },
      "source": [
        "# Step 7 - Saving to memory"
      ]
    },
    {
      "cell_type": "code",
      "execution_count": null,
      "id": "fa885f01-c629-4d2b-93f7-9f95fdbc67c1",
      "metadata": {
        "id": "fa885f01-c629-4d2b-93f7-9f95fdbc67c1",
        "outputId": "454b766f-b5c3-4139-8ef7-57cf0138a58a"
      },
      "outputs": [
        {
          "data": {
            "text/plain": [
              "[HumanMessage(content='Hi, How are you?', additional_kwargs={}, response_metadata={}),\n",
              " AIMessage(content=\"Hello! I'm just a computer program, so I don't have feelings, but I'm here to help you. How can I assist you today?\", additional_kwargs={}, response_metadata={})]"
            ]
          },
          "execution_count": 48,
          "metadata": {},
          "output_type": "execute_result"
        }
      ],
      "source": [
        "memory.save_context(query, {'output': response})\n",
        "memory.buffer"
      ]
    },
    {
      "cell_type": "markdown",
      "id": "a1d9d3a8-72b5-4a41-83b3-f1b421406464",
      "metadata": {
        "id": "a1d9d3a8-72b5-4a41-83b3-f1b421406464"
      },
      "source": [
        "# Step 8 - Run Step 6 and 7 in a loop"
      ]
    },
    {
      "cell_type": "code",
      "execution_count": null,
      "id": "27f8a858-e616-43db-a7a2-04f2277f6e0b",
      "metadata": {
        "id": "27f8a858-e616-43db-a7a2-04f2277f6e0b",
        "outputId": "62e48e79-afdb-466e-9d0e-55c2082756a2"
      },
      "outputs": [
        {
          "name": "stdin",
          "output_type": "stream",
          "text": [
            "Enter your input here:   Hi, how are you?\n"
          ]
        },
        {
          "name": "stdout",
          "output_type": "stream",
          "text": [
            "*User: Hi, how are you?\n",
            "*AI : Hello! I'm just a computer program, so I don't have feelings, but I'm here to help you. How can I assist you today?\n"
          ]
        },
        {
          "name": "stdin",
          "output_type": "stream",
          "text": [
            "Enter your input here:   ok, fine. no problem. how is your health now?\n"
          ]
        },
        {
          "name": "stdout",
          "output_type": "stream",
          "text": [
            "*User: ok, fine. no problem. how is your health now?\n",
            "*AI : As a computer program, I don't have health in the way humans do. But thank you for asking! How can I assist you today?\n"
          ]
        },
        {
          "name": "stdin",
          "output_type": "stream",
          "text": [
            "Enter your input here:   I love you\n"
          ]
        },
        {
          "name": "stdout",
          "output_type": "stream",
          "text": [
            "*User: I love you\n",
            "*AI : Thank you! I'm here to assist you with any questions or tasks you may have. How can I help you today?\n"
          ]
        },
        {
          "name": "stdin",
          "output_type": "stream",
          "text": [
            "Enter your input here:   can you please explain about KNN?\n"
          ]
        },
        {
          "name": "stdout",
          "output_type": "stream",
          "text": [
            "*User: can you please explain about KNN?\n",
            "*AI : Sure! K-Nearest Neighbors (KNN) is a simple and intuitive machine learning algorithm used for classification and regression tasks. In KNN, the algorithm classifies a new data point based on the majority class of its k nearest neighbors in the training data.\n",
            "\n",
            "Here's how it works:\n",
            "1. Choose the number of neighbors (k).\n",
            "2. Calculate the distance between the new data point and all other data points in the training set.\n",
            "3. Select the k nearest neighbors based on the calculated distances.\n",
            "4. For classification, the new data point is assigned the class that is most common among its k nearest neighbors. For regression, the predicted value is the average of the k nearest neighbors' values.\n",
            "\n",
            "KNN is a non-parametric and lazy learning algorithm, meaning it does not make assumptions about the underlying data distribution and does not learn a function until a prediction is required. It's easy to understand and implement, but it can be computationally expensive for large datasets.\n",
            "\n",
            "I hope that helps explain KNN! Let me know if you have any more questions.\n"
          ]
        },
        {
          "name": "stdin",
          "output_type": "stream",
          "text": [
            "Enter your input here:   Can you elaborate more about distance formula in KKN and also suggest different distance matrix?\n"
          ]
        },
        {
          "name": "stdout",
          "output_type": "stream",
          "text": [
            "*User: Can you elaborate more about distance formula in KKN and also suggest different distance matrix?\n",
            "*AI : In K-Nearest Neighbors (KNN), the distance between data points is a crucial component in determining which points are considered \"nearest neighbors.\" The choice of distance metric can significantly impact the performance of the algorithm. Here are some common distance metrics used in KNN:\n",
            "\n",
            "1. Euclidean Distance:\n",
            "   - The Euclidean distance between two points (p1, q1) and (p2, q2) in a 2-dimensional space is calculated as:\n",
            "     \\[\n",
            "     \\sqrt{{(p2 - p1)^2 + (q2 - q1)^2}}\n",
            "     \\]\n",
            "   - This is the most common distance metric used in KNN.\n",
            "\n",
            "2. Manhattan Distance:\n",
            "   - The Manhattan distance between two points (p1, q1) and (p2, q2) in a 2-dimensional space is calculated as:\n",
            "     \\[\n",
            "     |p2 - p1| + |q2 - q1|\n",
            "     \\]\n",
            "   - It calculates the distance by summing the absolute differences between the coordinates.\n",
            "\n",
            "3. Minkowski Distance:\n",
            "   - The Minkowski distance is a generalization of the Euclidean and Manhattan distances and is defined as:\n",
            "     \\[\n",
            "     \\left( \\sum_{i=1}^{n} |x_i - y_i|^p \\right)^{\\frac{1}{p}}\n",
            "     \\]\n",
            "   - When p=2, it becomes the Euclidean distance, and when p=1, it becomes the Manhattan distance.\n",
            "\n",
            "4. Cosine Similarity:\n",
            "   - Cosine similarity measures the cosine of the angle between two vectors and is often used for text data or high-dimensional sparse data.\n",
            "\n",
            "5. Hamming Distance:\n",
            "   - Hamming distance is used for categorical data and calculates the number of positions at which the corresponding symbols are different.\n",
            "\n",
            "These are just a few examples of distance metrics used in KNN. The choice of distance metric should be based on the nature of the data and the problem at hand. Experimenting with different distance metrics can help improve the performance of the KNN algorithm based on the characteristics of the dataset.\n",
            "\n",
            "I hope this information helps! Let me know if you have any more questions.\n"
          ]
        },
        {
          "name": "stdin",
          "output_type": "stream",
          "text": [
            "Enter your input here:   can you please explain 1st Distance matrix in detail and step by step?\n"
          ]
        },
        {
          "name": "stdout",
          "output_type": "stream",
          "text": [
            "*User: can you please explain 1st Distance matrix in detail and step by step?\n",
            "*AI : Certainly! Let's dive into the details of the Euclidean distance, which is one of the most commonly used distance metrics in K-Nearest Neighbors (KNN) algorithm.\n",
            "\n",
            "The Euclidean distance between two points A(x1, y1) and B(x2, y2) in a 2-dimensional space is calculated using the formula:\n",
            "\\[ d_{AB} = \\sqrt{{(x2 - x1)^2 + (y2 - y1)^2}} \\]\n",
            "\n",
            "Here's a step-by-step explanation of how to calculate the Euclidean distance between two points:\n",
            "\n",
            "1. **Identify the coordinates of the two points:** Let's say we have two points A(3, 4) and B(6, 8).\n",
            "\n",
            "2. **Calculate the differences in the x and y coordinates:** The differences are:\n",
            "   - \\( x2 - x1 = 6 - 3 = 3 \\)\n",
            "   - \\( y2 - y1 = 8 - 4 = 4 \\)\n",
            "\n",
            "3. **Square the differences:** Square each difference:\n",
            "   - \\( (x2 - x1)^2 = 3^2 = 9 \\)\n",
            "   - \\( (y2 - y1)^2 = 4^2 = 16 \\)\n",
            "\n",
            "4. **Sum the squared differences:** Add the squared differences together:\n",
            "   - \\( (x2 - x1)^2 + (y2 - y1)^2 = 9 + 16 = 25 \\)\n",
            "\n",
            "5. **Calculate the square root:** Take the square root of the sum to get the Euclidean distance:\n",
            "   - \\( \\sqrt{25} = 5 \\)\n",
            "\n",
            "Therefore, the Euclidean distance between points A(3, 4) and B(6, 8) is 5 units.\n",
            "\n",
            "This distance metric is used in KNN to determine the proximity of data points in a feature space. By calculating the Euclidean distances between the new data point and all other data points in the training set, KNN identifies the k nearest neighbors based on these distances for classification or regression tasks.\n",
            "\n",
            "I hope this step-by-step explanation clarifies how the Euclidean distance is calculated. Let me know if you have any more questions or need further explanation.\n"
          ]
        },
        {
          "name": "stdin",
          "output_type": "stream",
          "text": [
            "Enter your input here:   Can you please suggest what skillset required to become Data Analytics and Data Scientist?\n"
          ]
        },
        {
          "name": "stdout",
          "output_type": "stream",
          "text": [
            "*User: Can you please suggest what skillset required to become Data Analytics and Data Scientist?\n",
            "*AI : To become a successful Data Analyst or Data Scientist, you will need a combination of technical skills, domain knowledge, and soft skills. Here are some key skills required for each role:\n",
            "\n",
            "**Data Analyst:**\n",
            "1. **Statistical Analysis:** Understanding of statistical concepts and techniques for data analysis.\n",
            "2. **Data Manipulation:** Proficiency in tools like SQL, Excel, and data visualization tools like Tableau or Power BI.\n",
            "3. **Programming:** Knowledge of programming languages like Python or R for data cleaning and analysis.\n",
            "4. **Data Visualization:** Ability to create meaningful and insightful visualizations to communicate findings effectively.\n",
            "5. **Domain Knowledge:** Understanding of the industry or field in which you are working to derive actionable insights.\n",
            "6. **Critical Thinking:** Analytical mindset to interpret data and draw meaningful conclusions.\n",
            "\n",
            "**Data Scientist:**\n",
            "1. **Machine Learning:** Knowledge of machine learning algorithms and techniques for predictive modeling.\n",
            "2. **Deep Learning:** Understanding of deep learning concepts for complex pattern recognition tasks.\n",
            "3. **Big Data:** Familiarity with tools like Hadoop, Spark, and distributed computing for handling large datasets.\n",
            "4. **Data Wrangling:** Ability to clean, preprocess, and transform raw data for analysis.\n",
            "5. **Coding:** Proficiency in programming languages like Python, R, or Java for building and deploying machine learning models.\n",
            "6. **Business Acumen:** Understanding of business objectives and how to translate data insights into strategic decisions.\n",
            "\n",
            "**Common Skills for both roles:**\n",
            "1. **Communication:** Ability to communicate complex technical concepts to non-technical stakeholders.\n",
            "2. **Problem-Solving:** Strong problem-solving skills to address data-related challenges.\n",
            "3. **Curiosity:** Desire to explore data, ask questions, and uncover hidden patterns.\n",
            "4. **Continuous Learning:** Willingness to stay updated with the latest tools and techniques in the field.\n",
            "\n",
            "In addition to these technical skills, gaining practical experience through projects, internships, or online courses can help you build a strong foundation in data analytics and data science. Continuous learning and staying abreast of industry trends are also essential for success in these roles.\n",
            "\n",
            "I hope this overview helps you understand the skillset required to pursue a career in Data Analytics and Data Science. Let me know if you have any more questions or need further guidance.\n"
          ]
        },
        {
          "name": "stdin",
          "output_type": "stream",
          "text": [
            "Enter your input here:   bye\n"
          ]
        },
        {
          "name": "stdout",
          "output_type": "stream",
          "text": [
            "*User: bye\n"
          ]
        }
      ],
      "source": [
        "while True:\n",
        "    query= {\"human_input\": input('Enter your input here:  ')}\n",
        "    print(f\"*User: {query['human_input']}\")\n",
        "    if query['human_input'] in ['bye', 'quit', 'exit']:\n",
        "        break\n",
        "    response = chain.invoke(query)\n",
        "    print(f\"*AI : {response}\")\n",
        "    memory.save_context(query, {'output': response})"
      ]
    },
    {
      "cell_type": "code",
      "execution_count": null,
      "id": "766d5e91-75f1-40c7-a8e7-665f95dec41f",
      "metadata": {
        "id": "766d5e91-75f1-40c7-a8e7-665f95dec41f",
        "outputId": "f6e70f3d-ddaf-4c85-9b64-62e61345121e"
      },
      "outputs": [
        {
          "data": {
            "text/plain": [
              "{'chat_history': [HumanMessage(content='Hi, How are you?', additional_kwargs={}, response_metadata={}),\n",
              "  AIMessage(content=\"Hello! I'm just a computer program, so I don't have feelings, but I'm here to help you. How can I assist you today?\", additional_kwargs={}, response_metadata={}),\n",
              "  HumanMessage(content='Hi, how are you?', additional_kwargs={}, response_metadata={}),\n",
              "  AIMessage(content=\"Hello! I'm just a computer program, so I don't have feelings, but I'm here to help you. How can I assist you today?\", additional_kwargs={}, response_metadata={}),\n",
              "  HumanMessage(content='ok, fine. no problem. how is your health now?', additional_kwargs={}, response_metadata={}),\n",
              "  AIMessage(content=\"As a computer program, I don't have health in the way humans do. But thank you for asking! How can I assist you today?\", additional_kwargs={}, response_metadata={}),\n",
              "  HumanMessage(content='I love you', additional_kwargs={}, response_metadata={}),\n",
              "  AIMessage(content=\"Thank you! I'm here to assist you with any questions or tasks you may have. How can I help you today?\", additional_kwargs={}, response_metadata={}),\n",
              "  HumanMessage(content='can you please explain about KNN?', additional_kwargs={}, response_metadata={}),\n",
              "  AIMessage(content=\"Sure! K-Nearest Neighbors (KNN) is a simple and intuitive machine learning algorithm used for classification and regression tasks. In KNN, the algorithm classifies a new data point based on the majority class of its k nearest neighbors in the training data.\\n\\nHere's how it works:\\n1. Choose the number of neighbors (k).\\n2. Calculate the distance between the new data point and all other data points in the training set.\\n3. Select the k nearest neighbors based on the calculated distances.\\n4. For classification, the new data point is assigned the class that is most common among its k nearest neighbors. For regression, the predicted value is the average of the k nearest neighbors' values.\\n\\nKNN is a non-parametric and lazy learning algorithm, meaning it does not make assumptions about the underlying data distribution and does not learn a function until a prediction is required. It's easy to understand and implement, but it can be computationally expensive for large datasets.\\n\\nI hope that helps explain KNN! Let me know if you have any more questions.\", additional_kwargs={}, response_metadata={}),\n",
              "  HumanMessage(content='Can you elaborate more about distance formula in KKN and also suggest different distance matrix?', additional_kwargs={}, response_metadata={}),\n",
              "  AIMessage(content='In K-Nearest Neighbors (KNN), the distance between data points is a crucial component in determining which points are considered \"nearest neighbors.\" The choice of distance metric can significantly impact the performance of the algorithm. Here are some common distance metrics used in KNN:\\n\\n1. Euclidean Distance:\\n   - The Euclidean distance between two points (p1, q1) and (p2, q2) in a 2-dimensional space is calculated as:\\n     \\\\[\\n     \\\\sqrt{{(p2 - p1)^2 + (q2 - q1)^2}}\\n     \\\\]\\n   - This is the most common distance metric used in KNN.\\n\\n2. Manhattan Distance:\\n   - The Manhattan distance between two points (p1, q1) and (p2, q2) in a 2-dimensional space is calculated as:\\n     \\\\[\\n     |p2 - p1| + |q2 - q1|\\n     \\\\]\\n   - It calculates the distance by summing the absolute differences between the coordinates.\\n\\n3. Minkowski Distance:\\n   - The Minkowski distance is a generalization of the Euclidean and Manhattan distances and is defined as:\\n     \\\\[\\n     \\\\left( \\\\sum_{i=1}^{n} |x_i - y_i|^p \\\\right)^{\\\\frac{1}{p}}\\n     \\\\]\\n   - When p=2, it becomes the Euclidean distance, and when p=1, it becomes the Manhattan distance.\\n\\n4. Cosine Similarity:\\n   - Cosine similarity measures the cosine of the angle between two vectors and is often used for text data or high-dimensional sparse data.\\n\\n5. Hamming Distance:\\n   - Hamming distance is used for categorical data and calculates the number of positions at which the corresponding symbols are different.\\n\\nThese are just a few examples of distance metrics used in KNN. The choice of distance metric should be based on the nature of the data and the problem at hand. Experimenting with different distance metrics can help improve the performance of the KNN algorithm based on the characteristics of the dataset.\\n\\nI hope this information helps! Let me know if you have any more questions.', additional_kwargs={}, response_metadata={}),\n",
              "  HumanMessage(content='can you please explain 1st Distance matrix in detail and step by step?', additional_kwargs={}, response_metadata={}),\n",
              "  AIMessage(content=\"Certainly! Let's dive into the details of the Euclidean distance, which is one of the most commonly used distance metrics in K-Nearest Neighbors (KNN) algorithm.\\n\\nThe Euclidean distance between two points A(x1, y1) and B(x2, y2) in a 2-dimensional space is calculated using the formula:\\n\\\\[ d_{AB} = \\\\sqrt{{(x2 - x1)^2 + (y2 - y1)^2}} \\\\]\\n\\nHere's a step-by-step explanation of how to calculate the Euclidean distance between two points:\\n\\n1. **Identify the coordinates of the two points:** Let's say we have two points A(3, 4) and B(6, 8).\\n\\n2. **Calculate the differences in the x and y coordinates:** The differences are:\\n   - \\\\( x2 - x1 = 6 - 3 = 3 \\\\)\\n   - \\\\( y2 - y1 = 8 - 4 = 4 \\\\)\\n\\n3. **Square the differences:** Square each difference:\\n   - \\\\( (x2 - x1)^2 = 3^2 = 9 \\\\)\\n   - \\\\( (y2 - y1)^2 = 4^2 = 16 \\\\)\\n\\n4. **Sum the squared differences:** Add the squared differences together:\\n   - \\\\( (x2 - x1)^2 + (y2 - y1)^2 = 9 + 16 = 25 \\\\)\\n\\n5. **Calculate the square root:** Take the square root of the sum to get the Euclidean distance:\\n   - \\\\( \\\\sqrt{25} = 5 \\\\)\\n\\nTherefore, the Euclidean distance between points A(3, 4) and B(6, 8) is 5 units.\\n\\nThis distance metric is used in KNN to determine the proximity of data points in a feature space. By calculating the Euclidean distances between the new data point and all other data points in the training set, KNN identifies the k nearest neighbors based on these distances for classification or regression tasks.\\n\\nI hope this step-by-step explanation clarifies how the Euclidean distance is calculated. Let me know if you have any more questions or need further explanation.\", additional_kwargs={}, response_metadata={}),\n",
              "  HumanMessage(content='Can you please suggest what skillset required to become Data Analytics and Data Scientist?', additional_kwargs={}, response_metadata={}),\n",
              "  AIMessage(content='To become a successful Data Analyst or Data Scientist, you will need a combination of technical skills, domain knowledge, and soft skills. Here are some key skills required for each role:\\n\\n**Data Analyst:**\\n1. **Statistical Analysis:** Understanding of statistical concepts and techniques for data analysis.\\n2. **Data Manipulation:** Proficiency in tools like SQL, Excel, and data visualization tools like Tableau or Power BI.\\n3. **Programming:** Knowledge of programming languages like Python or R for data cleaning and analysis.\\n4. **Data Visualization:** Ability to create meaningful and insightful visualizations to communicate findings effectively.\\n5. **Domain Knowledge:** Understanding of the industry or field in which you are working to derive actionable insights.\\n6. **Critical Thinking:** Analytical mindset to interpret data and draw meaningful conclusions.\\n\\n**Data Scientist:**\\n1. **Machine Learning:** Knowledge of machine learning algorithms and techniques for predictive modeling.\\n2. **Deep Learning:** Understanding of deep learning concepts for complex pattern recognition tasks.\\n3. **Big Data:** Familiarity with tools like Hadoop, Spark, and distributed computing for handling large datasets.\\n4. **Data Wrangling:** Ability to clean, preprocess, and transform raw data for analysis.\\n5. **Coding:** Proficiency in programming languages like Python, R, or Java for building and deploying machine learning models.\\n6. **Business Acumen:** Understanding of business objectives and how to translate data insights into strategic decisions.\\n\\n**Common Skills for both roles:**\\n1. **Communication:** Ability to communicate complex technical concepts to non-technical stakeholders.\\n2. **Problem-Solving:** Strong problem-solving skills to address data-related challenges.\\n3. **Curiosity:** Desire to explore data, ask questions, and uncover hidden patterns.\\n4. **Continuous Learning:** Willingness to stay updated with the latest tools and techniques in the field.\\n\\nIn addition to these technical skills, gaining practical experience through projects, internships, or online courses can help you build a strong foundation in data analytics and data science. Continuous learning and staying abreast of industry trends are also essential for success in these roles.\\n\\nI hope this overview helps you understand the skillset required to pursue a career in Data Analytics and Data Science. Let me know if you have any more questions or need further guidance.', additional_kwargs={}, response_metadata={})]}"
            ]
          },
          "execution_count": 53,
          "metadata": {},
          "output_type": "execute_result"
        }
      ],
      "source": [
        "memory.load_memory_variables({})"
      ]
    },
    {
      "cell_type": "code",
      "execution_count": null,
      "id": "87825cb6-1cc8-4f52-a6d0-d3baa5e257d7",
      "metadata": {
        "id": "87825cb6-1cc8-4f52-a6d0-d3baa5e257d7",
        "outputId": "47f3b24d-b2e2-4b39-8323-9028698b742c"
      },
      "outputs": [
        {
          "data": {
            "text/plain": [
              "[HumanMessage(content='Hi, How are you?', additional_kwargs={}, response_metadata={}),\n",
              " AIMessage(content=\"Hello! I'm just a computer program, so I don't have feelings, but I'm here to help you. How can I assist you today?\", additional_kwargs={}, response_metadata={}),\n",
              " HumanMessage(content='Hi, how are you?', additional_kwargs={}, response_metadata={}),\n",
              " AIMessage(content=\"Hello! I'm just a computer program, so I don't have feelings, but I'm here to help you. How can I assist you today?\", additional_kwargs={}, response_metadata={}),\n",
              " HumanMessage(content='ok, fine. no problem. how is your health now?', additional_kwargs={}, response_metadata={}),\n",
              " AIMessage(content=\"As a computer program, I don't have health in the way humans do. But thank you for asking! How can I assist you today?\", additional_kwargs={}, response_metadata={}),\n",
              " HumanMessage(content='I love you', additional_kwargs={}, response_metadata={}),\n",
              " AIMessage(content=\"Thank you! I'm here to assist you with any questions or tasks you may have. How can I help you today?\", additional_kwargs={}, response_metadata={}),\n",
              " HumanMessage(content='can you please explain about KNN?', additional_kwargs={}, response_metadata={}),\n",
              " AIMessage(content=\"Sure! K-Nearest Neighbors (KNN) is a simple and intuitive machine learning algorithm used for classification and regression tasks. In KNN, the algorithm classifies a new data point based on the majority class of its k nearest neighbors in the training data.\\n\\nHere's how it works:\\n1. Choose the number of neighbors (k).\\n2. Calculate the distance between the new data point and all other data points in the training set.\\n3. Select the k nearest neighbors based on the calculated distances.\\n4. For classification, the new data point is assigned the class that is most common among its k nearest neighbors. For regression, the predicted value is the average of the k nearest neighbors' values.\\n\\nKNN is a non-parametric and lazy learning algorithm, meaning it does not make assumptions about the underlying data distribution and does not learn a function until a prediction is required. It's easy to understand and implement, but it can be computationally expensive for large datasets.\\n\\nI hope that helps explain KNN! Let me know if you have any more questions.\", additional_kwargs={}, response_metadata={}),\n",
              " HumanMessage(content='Can you elaborate more about distance formula in KKN and also suggest different distance matrix?', additional_kwargs={}, response_metadata={}),\n",
              " AIMessage(content='In K-Nearest Neighbors (KNN), the distance between data points is a crucial component in determining which points are considered \"nearest neighbors.\" The choice of distance metric can significantly impact the performance of the algorithm. Here are some common distance metrics used in KNN:\\n\\n1. Euclidean Distance:\\n   - The Euclidean distance between two points (p1, q1) and (p2, q2) in a 2-dimensional space is calculated as:\\n     \\\\[\\n     \\\\sqrt{{(p2 - p1)^2 + (q2 - q1)^2}}\\n     \\\\]\\n   - This is the most common distance metric used in KNN.\\n\\n2. Manhattan Distance:\\n   - The Manhattan distance between two points (p1, q1) and (p2, q2) in a 2-dimensional space is calculated as:\\n     \\\\[\\n     |p2 - p1| + |q2 - q1|\\n     \\\\]\\n   - It calculates the distance by summing the absolute differences between the coordinates.\\n\\n3. Minkowski Distance:\\n   - The Minkowski distance is a generalization of the Euclidean and Manhattan distances and is defined as:\\n     \\\\[\\n     \\\\left( \\\\sum_{i=1}^{n} |x_i - y_i|^p \\\\right)^{\\\\frac{1}{p}}\\n     \\\\]\\n   - When p=2, it becomes the Euclidean distance, and when p=1, it becomes the Manhattan distance.\\n\\n4. Cosine Similarity:\\n   - Cosine similarity measures the cosine of the angle between two vectors and is often used for text data or high-dimensional sparse data.\\n\\n5. Hamming Distance:\\n   - Hamming distance is used for categorical data and calculates the number of positions at which the corresponding symbols are different.\\n\\nThese are just a few examples of distance metrics used in KNN. The choice of distance metric should be based on the nature of the data and the problem at hand. Experimenting with different distance metrics can help improve the performance of the KNN algorithm based on the characteristics of the dataset.\\n\\nI hope this information helps! Let me know if you have any more questions.', additional_kwargs={}, response_metadata={}),\n",
              " HumanMessage(content='can you please explain 1st Distance matrix in detail and step by step?', additional_kwargs={}, response_metadata={}),\n",
              " AIMessage(content=\"Certainly! Let's dive into the details of the Euclidean distance, which is one of the most commonly used distance metrics in K-Nearest Neighbors (KNN) algorithm.\\n\\nThe Euclidean distance between two points A(x1, y1) and B(x2, y2) in a 2-dimensional space is calculated using the formula:\\n\\\\[ d_{AB} = \\\\sqrt{{(x2 - x1)^2 + (y2 - y1)^2}} \\\\]\\n\\nHere's a step-by-step explanation of how to calculate the Euclidean distance between two points:\\n\\n1. **Identify the coordinates of the two points:** Let's say we have two points A(3, 4) and B(6, 8).\\n\\n2. **Calculate the differences in the x and y coordinates:** The differences are:\\n   - \\\\( x2 - x1 = 6 - 3 = 3 \\\\)\\n   - \\\\( y2 - y1 = 8 - 4 = 4 \\\\)\\n\\n3. **Square the differences:** Square each difference:\\n   - \\\\( (x2 - x1)^2 = 3^2 = 9 \\\\)\\n   - \\\\( (y2 - y1)^2 = 4^2 = 16 \\\\)\\n\\n4. **Sum the squared differences:** Add the squared differences together:\\n   - \\\\( (x2 - x1)^2 + (y2 - y1)^2 = 9 + 16 = 25 \\\\)\\n\\n5. **Calculate the square root:** Take the square root of the sum to get the Euclidean distance:\\n   - \\\\( \\\\sqrt{25} = 5 \\\\)\\n\\nTherefore, the Euclidean distance between points A(3, 4) and B(6, 8) is 5 units.\\n\\nThis distance metric is used in KNN to determine the proximity of data points in a feature space. By calculating the Euclidean distances between the new data point and all other data points in the training set, KNN identifies the k nearest neighbors based on these distances for classification or regression tasks.\\n\\nI hope this step-by-step explanation clarifies how the Euclidean distance is calculated. Let me know if you have any more questions or need further explanation.\", additional_kwargs={}, response_metadata={}),\n",
              " HumanMessage(content='Can you please suggest what skillset required to become Data Analytics and Data Scientist?', additional_kwargs={}, response_metadata={}),\n",
              " AIMessage(content='To become a successful Data Analyst or Data Scientist, you will need a combination of technical skills, domain knowledge, and soft skills. Here are some key skills required for each role:\\n\\n**Data Analyst:**\\n1. **Statistical Analysis:** Understanding of statistical concepts and techniques for data analysis.\\n2. **Data Manipulation:** Proficiency in tools like SQL, Excel, and data visualization tools like Tableau or Power BI.\\n3. **Programming:** Knowledge of programming languages like Python or R for data cleaning and analysis.\\n4. **Data Visualization:** Ability to create meaningful and insightful visualizations to communicate findings effectively.\\n5. **Domain Knowledge:** Understanding of the industry or field in which you are working to derive actionable insights.\\n6. **Critical Thinking:** Analytical mindset to interpret data and draw meaningful conclusions.\\n\\n**Data Scientist:**\\n1. **Machine Learning:** Knowledge of machine learning algorithms and techniques for predictive modeling.\\n2. **Deep Learning:** Understanding of deep learning concepts for complex pattern recognition tasks.\\n3. **Big Data:** Familiarity with tools like Hadoop, Spark, and distributed computing for handling large datasets.\\n4. **Data Wrangling:** Ability to clean, preprocess, and transform raw data for analysis.\\n5. **Coding:** Proficiency in programming languages like Python, R, or Java for building and deploying machine learning models.\\n6. **Business Acumen:** Understanding of business objectives and how to translate data insights into strategic decisions.\\n\\n**Common Skills for both roles:**\\n1. **Communication:** Ability to communicate complex technical concepts to non-technical stakeholders.\\n2. **Problem-Solving:** Strong problem-solving skills to address data-related challenges.\\n3. **Curiosity:** Desire to explore data, ask questions, and uncover hidden patterns.\\n4. **Continuous Learning:** Willingness to stay updated with the latest tools and techniques in the field.\\n\\nIn addition to these technical skills, gaining practical experience through projects, internships, or online courses can help you build a strong foundation in data analytics and data science. Continuous learning and staying abreast of industry trends are also essential for success in these roles.\\n\\nI hope this overview helps you understand the skillset required to pursue a career in Data Analytics and Data Science. Let me know if you have any more questions or need further guidance.', additional_kwargs={}, response_metadata={})]"
            ]
          },
          "execution_count": 55,
          "metadata": {},
          "output_type": "execute_result"
        }
      ],
      "source": [
        "memory.buffer"
      ]
    },
    {
      "cell_type": "markdown",
      "id": "c9b01365-0118-4ffd-b162-56ff7826bb81",
      "metadata": {
        "id": "c9b01365-0118-4ffd-b162-56ff7826bb81"
      },
      "source": [
        "# Saving a Chat History"
      ]
    },
    {
      "cell_type": "code",
      "execution_count": null,
      "id": "78f0bdee-de41-4d95-9cf3-d13c74ffd1a2",
      "metadata": {
        "id": "78f0bdee-de41-4d95-9cf3-d13c74ffd1a2"
      },
      "outputs": [],
      "source": [
        "import pickle"
      ]
    },
    {
      "cell_type": "code",
      "execution_count": null,
      "id": "d8161a70-89c4-4dff-b9f9-0edba1961aac",
      "metadata": {
        "id": "d8161a70-89c4-4dff-b9f9-0edba1961aac",
        "outputId": "b56423d0-d4a6-4d6a-cc25-c8d9bb4278bc"
      },
      "outputs": [
        {
          "data": {
            "text/plain": [
              "'C:\\\\Users\\\\KUMAR SUNDRAM\\\\OneDrive\\\\Desktop\\\\GEN AI\\\\Introduction to LangChain\\\\6. Memory'"
            ]
          },
          "execution_count": 67,
          "metadata": {},
          "output_type": "execute_result"
        }
      ],
      "source": [
        "import os\n",
        "os.getcwd()"
      ]
    },
    {
      "cell_type": "code",
      "execution_count": null,
      "id": "2f92405e-5cf8-432f-a05b-907d7a982d6d",
      "metadata": {
        "id": "2f92405e-5cf8-432f-a05b-907d7a982d6d"
      },
      "outputs": [],
      "source": [
        "chat_history = pickle.dumps(memory)\n",
        "with open(\"conversation_memory.pkl\",\"wb\") as f:\n",
        "    f.write(chat_history)"
      ]
    },
    {
      "cell_type": "markdown",
      "id": "8eb69342-d1f3-4271-8c1e-79c3e57ade44",
      "metadata": {
        "id": "8eb69342-d1f3-4271-8c1e-79c3e57ade44"
      },
      "source": [
        "# Loading a Chat History"
      ]
    },
    {
      "cell_type": "code",
      "execution_count": null,
      "id": "7a1291b1-f70e-49d8-bb89-f19c674aed3c",
      "metadata": {
        "id": "7a1291b1-f70e-49d8-bb89-f19c674aed3c",
        "outputId": "36d2bad2-fa05-4502-bfda-1a262aa0f489"
      },
      "outputs": [
        {
          "name": "stdout",
          "output_type": "stream",
          "text": [
            "chat_memory=InMemoryChatMessageHistory(messages=[HumanMessage(content='Hi, How are you?', additional_kwargs={}, response_metadata={}), AIMessage(content=\"Hello! I'm just a computer program, so I don't have feelings, but I'm here to help you. How can I assist you today?\", additional_kwargs={}, response_metadata={}), HumanMessage(content='Hi, how are you?', additional_kwargs={}, response_metadata={}), AIMessage(content=\"Hello! I'm just a computer program, so I don't have feelings, but I'm here to help you. How can I assist you today?\", additional_kwargs={}, response_metadata={}), HumanMessage(content='ok, fine. no problem. how is your health now?', additional_kwargs={}, response_metadata={}), AIMessage(content=\"As a computer program, I don't have health in the way humans do. But thank you for asking! How can I assist you today?\", additional_kwargs={}, response_metadata={}), HumanMessage(content='I love you', additional_kwargs={}, response_metadata={}), AIMessage(content=\"Thank you! I'm here to assist you with any questions or tasks you may have. How can I help you today?\", additional_kwargs={}, response_metadata={}), HumanMessage(content='can you please explain about KNN?', additional_kwargs={}, response_metadata={}), AIMessage(content=\"Sure! K-Nearest Neighbors (KNN) is a simple and intuitive machine learning algorithm used for classification and regression tasks. In KNN, the algorithm classifies a new data point based on the majority class of its k nearest neighbors in the training data.\\n\\nHere's how it works:\\n1. Choose the number of neighbors (k).\\n2. Calculate the distance between the new data point and all other data points in the training set.\\n3. Select the k nearest neighbors based on the calculated distances.\\n4. For classification, the new data point is assigned the class that is most common among its k nearest neighbors. For regression, the predicted value is the average of the k nearest neighbors' values.\\n\\nKNN is a non-parametric and lazy learning algorithm, meaning it does not make assumptions about the underlying data distribution and does not learn a function until a prediction is required. It's easy to understand and implement, but it can be computationally expensive for large datasets.\\n\\nI hope that helps explain KNN! Let me know if you have any more questions.\", additional_kwargs={}, response_metadata={}), HumanMessage(content='Can you elaborate more about distance formula in KKN and also suggest different distance matrix?', additional_kwargs={}, response_metadata={}), AIMessage(content='In K-Nearest Neighbors (KNN), the distance between data points is a crucial component in determining which points are considered \"nearest neighbors.\" The choice of distance metric can significantly impact the performance of the algorithm. Here are some common distance metrics used in KNN:\\n\\n1. Euclidean Distance:\\n   - The Euclidean distance between two points (p1, q1) and (p2, q2) in a 2-dimensional space is calculated as:\\n     \\\\[\\n     \\\\sqrt{{(p2 - p1)^2 + (q2 - q1)^2}}\\n     \\\\]\\n   - This is the most common distance metric used in KNN.\\n\\n2. Manhattan Distance:\\n   - The Manhattan distance between two points (p1, q1) and (p2, q2) in a 2-dimensional space is calculated as:\\n     \\\\[\\n     |p2 - p1| + |q2 - q1|\\n     \\\\]\\n   - It calculates the distance by summing the absolute differences between the coordinates.\\n\\n3. Minkowski Distance:\\n   - The Minkowski distance is a generalization of the Euclidean and Manhattan distances and is defined as:\\n     \\\\[\\n     \\\\left( \\\\sum_{i=1}^{n} |x_i - y_i|^p \\\\right)^{\\\\frac{1}{p}}\\n     \\\\]\\n   - When p=2, it becomes the Euclidean distance, and when p=1, it becomes the Manhattan distance.\\n\\n4. Cosine Similarity:\\n   - Cosine similarity measures the cosine of the angle between two vectors and is often used for text data or high-dimensional sparse data.\\n\\n5. Hamming Distance:\\n   - Hamming distance is used for categorical data and calculates the number of positions at which the corresponding symbols are different.\\n\\nThese are just a few examples of distance metrics used in KNN. The choice of distance metric should be based on the nature of the data and the problem at hand. Experimenting with different distance metrics can help improve the performance of the KNN algorithm based on the characteristics of the dataset.\\n\\nI hope this information helps! Let me know if you have any more questions.', additional_kwargs={}, response_metadata={}), HumanMessage(content='can you please explain 1st Distance matrix in detail and step by step?', additional_kwargs={}, response_metadata={}), AIMessage(content=\"Certainly! Let's dive into the details of the Euclidean distance, which is one of the most commonly used distance metrics in K-Nearest Neighbors (KNN) algorithm.\\n\\nThe Euclidean distance between two points A(x1, y1) and B(x2, y2) in a 2-dimensional space is calculated using the formula:\\n\\\\[ d_{AB} = \\\\sqrt{{(x2 - x1)^2 + (y2 - y1)^2}} \\\\]\\n\\nHere's a step-by-step explanation of how to calculate the Euclidean distance between two points:\\n\\n1. **Identify the coordinates of the two points:** Let's say we have two points A(3, 4) and B(6, 8).\\n\\n2. **Calculate the differences in the x and y coordinates:** The differences are:\\n   - \\\\( x2 - x1 = 6 - 3 = 3 \\\\)\\n   - \\\\( y2 - y1 = 8 - 4 = 4 \\\\)\\n\\n3. **Square the differences:** Square each difference:\\n   - \\\\( (x2 - x1)^2 = 3^2 = 9 \\\\)\\n   - \\\\( (y2 - y1)^2 = 4^2 = 16 \\\\)\\n\\n4. **Sum the squared differences:** Add the squared differences together:\\n   - \\\\( (x2 - x1)^2 + (y2 - y1)^2 = 9 + 16 = 25 \\\\)\\n\\n5. **Calculate the square root:** Take the square root of the sum to get the Euclidean distance:\\n   - \\\\( \\\\sqrt{25} = 5 \\\\)\\n\\nTherefore, the Euclidean distance between points A(3, 4) and B(6, 8) is 5 units.\\n\\nThis distance metric is used in KNN to determine the proximity of data points in a feature space. By calculating the Euclidean distances between the new data point and all other data points in the training set, KNN identifies the k nearest neighbors based on these distances for classification or regression tasks.\\n\\nI hope this step-by-step explanation clarifies how the Euclidean distance is calculated. Let me know if you have any more questions or need further explanation.\", additional_kwargs={}, response_metadata={}), HumanMessage(content='Can you please suggest what skillset required to become Data Analytics and Data Scientist?', additional_kwargs={}, response_metadata={}), AIMessage(content='To become a successful Data Analyst or Data Scientist, you will need a combination of technical skills, domain knowledge, and soft skills. Here are some key skills required for each role:\\n\\n**Data Analyst:**\\n1. **Statistical Analysis:** Understanding of statistical concepts and techniques for data analysis.\\n2. **Data Manipulation:** Proficiency in tools like SQL, Excel, and data visualization tools like Tableau or Power BI.\\n3. **Programming:** Knowledge of programming languages like Python or R for data cleaning and analysis.\\n4. **Data Visualization:** Ability to create meaningful and insightful visualizations to communicate findings effectively.\\n5. **Domain Knowledge:** Understanding of the industry or field in which you are working to derive actionable insights.\\n6. **Critical Thinking:** Analytical mindset to interpret data and draw meaningful conclusions.\\n\\n**Data Scientist:**\\n1. **Machine Learning:** Knowledge of machine learning algorithms and techniques for predictive modeling.\\n2. **Deep Learning:** Understanding of deep learning concepts for complex pattern recognition tasks.\\n3. **Big Data:** Familiarity with tools like Hadoop, Spark, and distributed computing for handling large datasets.\\n4. **Data Wrangling:** Ability to clean, preprocess, and transform raw data for analysis.\\n5. **Coding:** Proficiency in programming languages like Python, R, or Java for building and deploying machine learning models.\\n6. **Business Acumen:** Understanding of business objectives and how to translate data insights into strategic decisions.\\n\\n**Common Skills for both roles:**\\n1. **Communication:** Ability to communicate complex technical concepts to non-technical stakeholders.\\n2. **Problem-Solving:** Strong problem-solving skills to address data-related challenges.\\n3. **Curiosity:** Desire to explore data, ask questions, and uncover hidden patterns.\\n4. **Continuous Learning:** Willingness to stay updated with the latest tools and techniques in the field.\\n\\nIn addition to these technical skills, gaining practical experience through projects, internships, or online courses can help you build a strong foundation in data analytics and data science. Continuous learning and staying abreast of industry trends are also essential for success in these roles.\\n\\nI hope this overview helps you understand the skillset required to pursue a career in Data Analytics and Data Science. Let me know if you have any more questions or need further guidance.', additional_kwargs={}, response_metadata={})]) return_messages=True memory_key='chat_history'\n"
          ]
        }
      ],
      "source": [
        "chat_history_loaded = pickle.load(open(\"conversation_memory.pkl\", \"rb\"))\n",
        "print(chat_history_loaded)"
      ]
    },
    {
      "cell_type": "code",
      "execution_count": null,
      "id": "8b64c6f5-31fa-4474-88c1-8e09c2ca67f0",
      "metadata": {
        "id": "8b64c6f5-31fa-4474-88c1-8e09c2ca67f0"
      },
      "outputs": [],
      "source": []
    },
    {
      "cell_type": "code",
      "execution_count": null,
      "id": "8e4609e4-122e-49b8-8aef-23a55268b6f2",
      "metadata": {
        "id": "8e4609e4-122e-49b8-8aef-23a55268b6f2"
      },
      "outputs": [],
      "source": []
    },
    {
      "cell_type": "code",
      "execution_count": null,
      "id": "b387fdac-e7e3-4559-b770-54fd2d8948ab",
      "metadata": {
        "id": "b387fdac-e7e3-4559-b770-54fd2d8948ab"
      },
      "outputs": [],
      "source": []
    },
    {
      "cell_type": "markdown",
      "id": "7a57196c-f3b8-49d3-b812-8c4d999e6adf",
      "metadata": {
        "id": "7a57196c-f3b8-49d3-b812-8c4d999e6adf"
      },
      "source": [
        "## **SQLChatMessageHistory**\n",
        "\n",
        "`ChatMessageHistory` allows us to store separate conversation histories per user or session which is often done by the real-time chatbots. `session_id` is used to distinguish between separate conversations.\n",
        "\n",
        "In order to use it, we can use a `get_session_history` function which take `session_id` and returns a message history object.\n",
        "\n",
        "There is a support of many `Memory` components under `langchain_community.chat_message_histories`, like:\n",
        "1. AstraDBChatMessageHistory\n",
        "2. DynamoDBChatMessageHistory\n",
        "3. CassandraChatMessageHistory\n",
        "4. ElasticsearchChatMessageHistory\n",
        "5. KafkaChatMessageHistory\n",
        "6. MongoDBChatMessageHistory\n",
        "7. RedisChatMessageHistory\n",
        "8. PostgresChatMessageHistory\n",
        "9. SQLChatMessageHistory\n",
        "\n",
        "**[Click Here](https://python.langchain.com/v0.2/docs/integrations/memory/)** to read more.\n",
        "\n",
        "### **Usage**\n",
        "\n",
        "To use the storage you need to provide only 2 things:\n",
        "\n",
        "1. Session Id - a unique identifier of the session, like user name, email, chat id etc.\n",
        "2. Connection string\n",
        "    - For SQL (SQLAlchemy) - A string that specifies the database connection. It will be passed to SQLAlchemy create_engine function.\n",
        "    - For SQLite - A string that specifies the database connection. For SQLite, that string is slqlite:/// followed by the name of the database file. If that file doesn't exist, it will be created."
      ]
    },
    {
      "cell_type": "code",
      "execution_count": null,
      "id": "19b8d7de-27af-48e0-b407-a99f880f0784",
      "metadata": {
        "id": "19b8d7de-27af-48e0-b407-a99f880f0784"
      },
      "outputs": [],
      "source": [
        "from langchain_openai import ChatOpenAI\n",
        "f = open('keys/.openai_api_key.txt')\n",
        "OPENAI_API_KEY = f.read()\n",
        "chat_model = ChatOpenAI(openai_api_key=OPENAI_API_KEY)"
      ]
    },
    {
      "cell_type": "code",
      "execution_count": null,
      "id": "ef39e4f5-23ef-48fe-87bb-1e60dc487a98",
      "metadata": {
        "id": "ef39e4f5-23ef-48fe-87bb-1e60dc487a98"
      },
      "outputs": [],
      "source": [
        "#!pip install langchain_community"
      ]
    },
    {
      "cell_type": "code",
      "execution_count": null,
      "id": "b408b9bd-613c-46b3-97ee-141aecaf811d",
      "metadata": {
        "id": "b408b9bd-613c-46b3-97ee-141aecaf811d"
      },
      "outputs": [],
      "source": [
        "from langchain_community.chat_message_histories import SQLChatMessageHistory\n",
        "\n",
        "def get_session_message_history_from_db(session_id):\n",
        "    chat_message_history = SQLChatMessageHistory(session_id=session_id, connection='sqlite:///chats_data/sqlite.db')\n",
        "    return chat_message_history"
      ]
    },
    {
      "cell_type": "code",
      "execution_count": null,
      "id": "f4aba666-eecf-462b-be36-480ce683b848",
      "metadata": {
        "id": "f4aba666-eecf-462b-be36-480ce683b848"
      },
      "outputs": [],
      "source": [
        "# Creat a chat template\n",
        "\n",
        "from langchain_core.prompts import ChatPromptTemplate, MessagesPlaceholder\n",
        "\n",
        "chat_template = ChatPromptTemplate.from_messages([('system', \"You are a helpful AI assistant.\"),\n",
        "                                                  MessagesPlaceholder(variable_name = \"history\"),\n",
        "                                                  (\"human\",\"{human_input}\")])"
      ]
    },
    {
      "cell_type": "code",
      "execution_count": null,
      "id": "e9a2a7c7-def8-44fb-98d7-c16e42c4318c",
      "metadata": {
        "id": "e9a2a7c7-def8-44fb-98d7-c16e42c4318c"
      },
      "outputs": [],
      "source": [
        "# Chain\n",
        "chain = chat_template | chat_model"
      ]
    },
    {
      "cell_type": "code",
      "execution_count": null,
      "id": "d683a0ec-5100-46b5-b34f-6f1781e75ab4",
      "metadata": {
        "id": "d683a0ec-5100-46b5-b34f-6f1781e75ab4"
      },
      "outputs": [],
      "source": [
        "from langchain_core.runnables.history import RunnableWithMessageHistory\n",
        "\n",
        "# Define a chain\n",
        "conversation_chain = RunnableWithMessageHistory(chain, get_session_message_history_from_db,\n",
        "                                                input_messages_key=\"human_input\",\n",
        "                                                history_messages_key = \"history\")"
      ]
    },
    {
      "cell_type": "code",
      "execution_count": null,
      "id": "0bbf4f99-628b-4e54-8488-97735b16fb5a",
      "metadata": {
        "id": "0bbf4f99-628b-4e54-8488-97735b16fb5a",
        "outputId": "dbf0dbad-5fca-47d0-c861-5b6e073eb985"
      },
      "outputs": [
        {
          "data": {
            "text/plain": [
              "'Hello Sundram! The capital of Gujarat is Gandhinagar.'"
            ]
          },
          "execution_count": 117,
          "metadata": {},
          "output_type": "execute_result"
        }
      ],
      "source": [
        "# This is where we configure the session id\n",
        "\n",
        "user_id = \"sundram\"\n",
        "config = {\"configurable\":{\"session_id\":user_id}}\n",
        "input_prompt = {\"human_input\": \"My name is Sundram. Can you tell me the Capital of Gujarat?\"}\n",
        "response = conversation_chain.invoke(input_prompt, config=config)\n",
        "response.content"
      ]
    },
    {
      "cell_type": "code",
      "execution_count": null,
      "id": "7b97a09e-8abb-4f99-adbc-2d157c5af0ee",
      "metadata": {
        "id": "7b97a09e-8abb-4f99-adbc-2d157c5af0ee",
        "outputId": "4690ba1e-3488-4950-e892-a96a053f2fb6"
      },
      "outputs": [
        {
          "name": "stdout",
          "output_type": "stream",
          "text": [
            "I apologize for the mistake. The three largest states in India by area are:\n",
            "\n",
            "1. Rajasthan\n",
            "2. Madhya Pradesh\n",
            "3. Maharashtra\n",
            "\n",
            "Thank you for your patience, Sundram. Let me know if you have any more questions.\n"
          ]
        }
      ],
      "source": [
        "user_id = \"sundram\"\n",
        "config = {\"configurable\":{\"session_id\":user_id}}\n",
        "input_prompt = {\"human_input\": \"My name is Sundram. What are the biggest 3 states in India?\"}\n",
        "response = conversation_chain.invoke(input_prompt, config=config)\n",
        "print(response.content)"
      ]
    },
    {
      "cell_type": "code",
      "execution_count": null,
      "id": "0ea70828-f30c-442a-910b-99614845dd8f",
      "metadata": {
        "id": "0ea70828-f30c-442a-910b-99614845dd8f",
        "outputId": "b358a574-2188-4750-99f2-03f2bd38f7cb"
      },
      "outputs": [
        {
          "name": "stdout",
          "output_type": "stream",
          "text": [
            "I apologize for the oversight. Here are the top 5 most populous states in India:\n",
            "\n",
            "1. Uttar Pradesh\n",
            "2. Maharashtra\n",
            "3. Bihar\n",
            "4. West Bengal\n",
            "5. Madhya Pradesh\n",
            "\n",
            "Thank you for bringing that to my attention, Sundram. Let me know if you need any more information.\n"
          ]
        }
      ],
      "source": [
        "user_id = \"sundram\"\n",
        "config = {\"configurable\":{\"session_id\":user_id}}\n",
        "input_prompt = {\"human_input\": \"My name is Sundram. What are the top 5 states of India on the basis of population?\"}\n",
        "response = conversation_chain.invoke(input_prompt, config=config)\n",
        "print(response.content)"
      ]
    },
    {
      "cell_type": "code",
      "execution_count": null,
      "id": "1c299d74-f346-42e9-946b-e0c3c76ddbc6",
      "metadata": {
        "id": "1c299d74-f346-42e9-946b-e0c3c76ddbc6"
      },
      "outputs": [],
      "source": []
    },
    {
      "cell_type": "code",
      "execution_count": null,
      "id": "07223128-4a72-4b41-bd4f-c0687b9b9600",
      "metadata": {
        "id": "07223128-4a72-4b41-bd4f-c0687b9b9600"
      },
      "outputs": [],
      "source": []
    },
    {
      "cell_type": "code",
      "execution_count": null,
      "id": "06535456-88c4-42fd-8bcf-8e1b8d73789b",
      "metadata": {
        "id": "06535456-88c4-42fd-8bcf-8e1b8d73789b",
        "outputId": "99ca9412-be54-4e40-d51f-0cf281d0ecd3"
      },
      "outputs": [
        {
          "data": {
            "text/plain": [
              "'The biggest state in India by area is Rajasthan.'"
            ]
          },
          "execution_count": 119,
          "metadata": {},
          "output_type": "execute_result"
        }
      ],
      "source": [
        "user_id = \"Urmil\"\n",
        "config = {\"configurable\":{\"session_id\":user_id}}\n",
        "input_prompt = {\"human_input\": \"My name is Urmil. What is the biggest state in India?\"}\n",
        "response = conversation_chain.invoke(input_prompt, config=config)\n",
        "response.content"
      ]
    },
    {
      "cell_type": "code",
      "execution_count": null,
      "id": "619caff8-24e0-4fc5-8273-7230b25ee764",
      "metadata": {
        "id": "619caff8-24e0-4fc5-8273-7230b25ee764"
      },
      "outputs": [],
      "source": [
        "def chat_bot(session_id, prompt):\n",
        "    config={\"configurable\":{\"session_id\":user_id}}\n",
        "    input_prompt = {\"human_input\": prompt}\n",
        "    response = conversation_chain.invoke(input_prompt, config=config)\n",
        "    return response.content"
      ]
    },
    {
      "cell_type": "code",
      "execution_count": null,
      "id": "d1dcc33f-aeaf-4828-a41c-c274a0d2b24f",
      "metadata": {
        "id": "d1dcc33f-aeaf-4828-a41c-c274a0d2b24f",
        "outputId": "60844c4a-f3e8-4ef6-eaa1-6987a939979f"
      },
      "outputs": [
        {
          "data": {
            "text/plain": [
              "'Yes, your name is Urmil. How can I assist you today, Urmil?'"
            ]
          },
          "execution_count": 125,
          "metadata": {},
          "output_type": "execute_result"
        }
      ],
      "source": [
        "user_id = \"Urmil\"\n",
        "input_prompt = \"Do you remember my name?\"\n",
        "chat_bot(session_id=user_id, prompt=input_prompt)"
      ]
    },
    {
      "cell_type": "code",
      "execution_count": null,
      "id": "f3ac4431-a115-4802-a0d1-81ac252a71fe",
      "metadata": {
        "id": "f3ac4431-a115-4802-a0d1-81ac252a71fe",
        "outputId": "1988e193-6049-440c-d069-8349c5e34edb"
      },
      "outputs": [
        {
          "data": {
            "text/plain": [
              "\"I'm sorry, but I don't have the ability to remember personal information about users unless it has been shared with me in the course of our conversation. How can I assist you today?\""
            ]
          },
          "execution_count": 127,
          "metadata": {},
          "output_type": "execute_result"
        }
      ],
      "source": [
        "user_id = \"Vijay\"\n",
        "input_prompt = \"Do you remember my name?\"\n",
        "chat_bot(session_id=user_id, prompt=input_prompt)"
      ]
    },
    {
      "cell_type": "code",
      "execution_count": null,
      "id": "35a5b719-52ed-4c30-af0b-471fc87f712a",
      "metadata": {
        "id": "35a5b719-52ed-4c30-af0b-471fc87f712a",
        "outputId": "a7b9595f-ac7c-4d0f-8ded-f576001cbbd4"
      },
      "outputs": [
        {
          "data": {
            "text/plain": [
              "'Yes, your name is Sundram. How can I assist you today?'"
            ]
          },
          "execution_count": 129,
          "metadata": {},
          "output_type": "execute_result"
        }
      ],
      "source": [
        "user_id = \"sundram\"\n",
        "input_prompt = \"Do you remember my name?\"\n",
        "chat_bot(session_id=user_id, prompt=input_prompt)"
      ]
    }
  ],
  "metadata": {
    "kernelspec": {
      "display_name": "Python 3 (ipykernel)",
      "language": "python",
      "name": "python3"
    },
    "language_info": {
      "codemirror_mode": {
        "name": "ipython",
        "version": 3
      },
      "file_extension": ".py",
      "mimetype": "text/x-python",
      "name": "python",
      "nbconvert_exporter": "python",
      "pygments_lexer": "ipython3",
      "version": "3.12.4"
    },
    "colab": {
      "provenance": [],
      "include_colab_link": true
    }
  },
  "nbformat": 4,
  "nbformat_minor": 5
}